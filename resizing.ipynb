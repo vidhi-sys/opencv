{
  "nbformat": 4,
  "nbformat_minor": 0,
  "metadata": {
    "colab": {
      "provenance": []
    },
    "kernelspec": {
      "name": "python3",
      "display_name": "Python 3"
    },
    "language_info": {
      "name": "python"
    }
  },
  "cells": [
    {
      "cell_type": "code",
      "execution_count": null,
      "metadata": {
        "id": "iZ7mZSdgMFnY"
      },
      "outputs": [],
      "source": [
        "#scaling thru 3 methods inter_area,inter_cubic,inter_linear(zoom)\n"
      ]
    },
    {
      "cell_type": "code",
      "source": [
        "import pandas as pd\n",
        "import numpy as np\n",
        "import cv2"
      ],
      "metadata": {
        "id": "Vt_o6_xUMavl"
      },
      "execution_count": 1,
      "outputs": []
    },
    {
      "cell_type": "code",
      "source": [
        "img=cv2.imread('flying_bird.jpg')"
      ],
      "metadata": {
        "id": "b9Kt6Ux_MgYN"
      },
      "execution_count": 3,
      "outputs": []
    },
    {
      "cell_type": "code",
      "source": [
        "print(img.shape)"
      ],
      "metadata": {
        "colab": {
          "base_uri": "https://localhost:8080/"
        },
        "id": "TCV2XdIPMrFO",
        "outputId": "55966c14-eb7e-4259-b366-5486833d52e4"
      },
      "execution_count": 4,
      "outputs": [
        {
          "output_type": "stream",
          "name": "stdout",
          "text": [
            "(480, 640, 3)\n"
          ]
        }
      ]
    },
    {
      "cell_type": "code",
      "source": [
        "# if we want to resize the image (w=col,h=rows)\n",
        "#SHRINKING\n",
        "cv2.resize(img,(200,200)).shape #(w and h)\n",
        "cv2.resize(img,(300,600), interpolation=cv2.INTER_CUBIC).shape\n",
        "cv2.resize(img,(300,600), interpolation=cv2.INTER_AREA).shape\n",
        "cv2.resize(img,(300,600), interpolation=cv2.INTER_LINEAR).shape"
      ],
      "metadata": {
        "colab": {
          "base_uri": "https://localhost:8080/"
        },
        "id": "QdqXZyDyM1Ju",
        "outputId": "51015d13-e369-4a73-ac4f-e1c4addc844d"
      },
      "execution_count": 9,
      "outputs": [
        {
          "output_type": "execute_result",
          "data": {
            "text/plain": [
              "(600, 300, 3)"
            ]
          },
          "metadata": {},
          "execution_count": 9
        }
      ]
    },
    {
      "cell_type": "code",
      "source": [
        "#cv2.imshow('img',img)\n",
        "#cv2.waitKey(0)\n",
        "#cv2.destroyAllWindows()\n",
        "#this code is not for collab only jupyter"
      ],
      "metadata": {
        "id": "bt4QVWtANOa5"
      },
      "execution_count": 11,
      "outputs": []
    },
    {
      "cell_type": "code",
      "source": [],
      "metadata": {
        "id": "VyzzT5u_OzJq"
      },
      "execution_count": null,
      "outputs": []
    }
  ]
}