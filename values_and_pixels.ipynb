{
 "cells": [
  {
   "cell_type": "code",
   "execution_count": 2,
   "id": "cfebad8d-fb59-4880-b79f-7777c4a1a85c",
   "metadata": {},
   "outputs": [],
   "source": [
    "import numpy as np #numerical pythom\n",
    "import matplotlib.pyplot as plt #visualization lib\n"
   ]
  },
  {
   "cell_type": "code",
   "execution_count": 3,
   "id": "5a5bc4d4-346b-445a-a4f3-c458e2596812",
   "metadata": {},
   "outputs": [
    {
     "name": "stdout",
     "output_type": "stream",
     "text": [
      "[[  0   1   2   3   4   5   6   7   8   9  10  11  12  13  14  15]\n",
      " [ 16  17  18  19  20  21  22  23  24  25  26  27  28  29  30  31]\n",
      " [ 32  33  34  35  36  37  38  39  40  41  42  43  44  45  46  47]\n",
      " [ 48  49  50  51  52  53  54  55  56  57  58  59  60  61  62  63]\n",
      " [ 64  65  66  67  68  69  70  71  72  73  74  75  76  77  78  79]\n",
      " [ 80  81  82  83  84  85  86  87  88  89  90  91  92  93  94  95]\n",
      " [ 96  97  98  99 100 101 102 103 104 105 106 107 108 109 110 111]\n",
      " [112 113 114 115 116 117 118 119 120 121 122 123 124 125 126 127]\n",
      " [128 129 130 131 132 133 134 135 136 137 138 139 140 141 142 143]\n",
      " [144 145 146 147 148 149 150 151 152 153 154 155 156 157 158 159]\n",
      " [160 161 162 163 164 165 166 167 168 169 170 171 172 173 174 175]\n",
      " [176 177 178 179 180 181 182 183 184 185 186 187 188 189 190 191]\n",
      " [192 193 194 195 196 197 198 199 200 201 202 203 204 205 206 207]\n",
      " [208 209 210 211 212 213 214 215 216 217 218 219 220 221 222 223]\n",
      " [224 225 226 227 228 229 230 231 232 233 234 235 236 237 238 239]\n",
      " [240 241 242 243 244 245 246 247 248 249 250 251 252 253 254 255]]\n"
     ]
    }
   ],
   "source": [
    "arr=np.arange(0,256,1)#array in range 0 to 256 in step 1\n",
    "#now covert to 16x16 array\n",
    "arr=arr.reshape((16,16))\n",
    "print(arr)\n",
    "#lower the value darker in color"
   ]
  },
  {
   "cell_type": "code",
   "execution_count": 4,
   "id": "653e90ca-c1e1-4628-86e2-79a35e87e1a7",
   "metadata": {},
   "outputs": [],
   "source": [
    "arr_8bit=arr.astype(np.uint8)\n",
    "#convert to 8 bit"
   ]
  },
  {
   "cell_type": "code",
   "execution_count": null,
   "id": "1e8489c9-be93-4725-9a81-8573ae713b37",
   "metadata": {},
   "outputs": [],
   "source": [
    "plt.imshow(arr_8bit,cmap='gray')"
   ]
  }
 ],
 "metadata": {
  "kernelspec": {
   "display_name": "Python 3 (ipykernel)",
   "language": "python",
   "name": "python3"
  },
  "language_info": {
   "codemirror_mode": {
    "name": "ipython",
    "version": 3
   },
   "file_extension": ".py",
   "mimetype": "text/x-python",
   "name": "python",
   "nbconvert_exporter": "python",
   "pygments_lexer": "ipython3",
   "version": "3.13.5"
  }
 },
 "nbformat": 4,
 "nbformat_minor": 5
}
